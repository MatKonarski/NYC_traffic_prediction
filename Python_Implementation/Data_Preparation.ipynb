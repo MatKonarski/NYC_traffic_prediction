{
 "cells": [
  {
   "cell_type": "markdown",
   "id": "ec999cf8-2c90-429c-a330-9c6e24d20fae",
   "metadata": {},
   "source": [
    "Author: **Mathis Konarski** </br>\n",
    "Date: **16/06/2022**\n",
    "\n",
    "This notebook aim to transform raw data about traffic demand into light and easily manageable datasets. </br>\n",
    "The purpose is to use the new datasets inside Deep Learning algorithms"
   ]
  },
  {
   "cell_type": "code",
   "execution_count": null,
   "id": "bbf50455-2cea-4466-9b9e-fff46e387f50",
   "metadata": {
    "tags": []
   },
   "outputs": [],
   "source": [
    "import pandas as pd\n",
    "import numpy as np\n",
    "\n",
    "import Preparation_functions as p_func"
   ]
  },
  {
   "cell_type": "code",
   "execution_count": null,
   "id": "14948c48-b46e-4f44-811c-1ae09bf0a81c",
   "metadata": {
    "tags": []
   },
   "outputs": [],
   "source": [
    "TIME_PERIOD = 30*60 #seconds = 1/2 hour\n",
    "GRID_SIZE = (10, 20) # (latitude, longitude)\n",
    "BOX = [(40.68, 40.78), (-74.04, -73.94)] # [latitude, longitude]"
   ]
  },
  {
   "cell_type": "markdown",
   "id": "d1faa5a8-f10d-4014-97d2-ab9be9e9d142",
   "metadata": {},
   "source": [
    "# Bike"
   ]
  },
  {
   "cell_type": "code",
   "execution_count": null,
   "id": "2d1b2cad-2478-463d-b8db-e1312c86ce05",
   "metadata": {
    "tags": []
   },
   "outputs": [],
   "source": [
    "data_bike_04_16_df = pd.read_csv('Datasets/201604-citibike-tripdata.csv') # data from https://ride.citibikenyc.com/system-data\n",
    "data_bike_05_16_df = pd.read_csv('Datasets/201605-citibike-tripdata.csv')\n",
    "data_bike_06_16_df = pd.read_csv('Datasets/201606-citibike-tripdata.csv')"
   ]
  },
  {
   "cell_type": "code",
   "execution_count": null,
   "id": "3426f0ce-85c3-427e-9e1b-f0ab2f3da236",
   "metadata": {
    "tags": []
   },
   "outputs": [],
   "source": [
    "data_bike_df = p_func.bike_preparation((data_bike_04_16_df, data_bike_05_16_df, data_bike_06_16_df), BOX)\n",
    "data_bike_df = p_func.extra_time_info(data_bike_df, TIME_PERIOD)\n",
    "data_bike_df = p_func.zone_def(data_bike_df, BOX, GRID_SIZE)"
   ]
  },
  {
   "cell_type": "code",
   "execution_count": null,
   "id": "e0cf8f31-345c-4a2c-a528-3574492276e9",
   "metadata": {},
   "outputs": [],
   "source": [
    "data_bike_df.to_csv(\"Datasets/bike_prepared.csv\")"
   ]
  },
  {
   "cell_type": "markdown",
   "id": "ea52a416-06d2-47db-9f13-4eabd89c12ee",
   "metadata": {},
   "source": [
    "# Yellow Taxi"
   ]
  },
  {
   "cell_type": "code",
   "execution_count": null,
   "id": "5408b360-204a-418d-893e-46e7f7dcd678",
   "metadata": {
    "tags": []
   },
   "outputs": [],
   "source": [
    "data_ytaxi_04_16_df = pd.read_csv('Datasets/yellow_tripdata_2016-04.csv') # data from https://www1.nyc.gov/site/tlc/about/tlc-trip-record-data.page\n",
    "data_ytaxi_05_16_df = pd.read_csv('Datasets/yellow_tripdata_2016-05.csv')\n",
    "data_ytaxi_06_16_df = pd.read_csv('Datasets/yellow_tripdata_2016-06.csv')"
   ]
  },
  {
   "cell_type": "code",
   "execution_count": null,
   "id": "28268457-36dd-4b15-b3f4-a2197ebecf96",
   "metadata": {
    "tags": []
   },
   "outputs": [],
   "source": [
    "data_ytaxi_df = p_func.ytaxi_preparation((data_ytaxi_04_16_df, data_ytaxi_05_16_df, data_ytaxi_06_16_df), BOX)\n",
    "data_ytaxi_df = p_func.extra_time_info(data_ytaxi_df, TIME_PERIOD)\n",
    "data_ytaxi_df = p_func.zone_def(data_ytaxi_df, BOX, GRID_SIZE)"
   ]
  },
  {
   "cell_type": "code",
   "execution_count": null,
   "id": "544a051c-bcb0-4b0f-9ce0-987ce9091635",
   "metadata": {},
   "outputs": [],
   "source": [
    "data_ytaxi_df.to_csv(\"Datasets/ytaxi_prepared.csv\")"
   ]
  },
  {
   "cell_type": "markdown",
   "id": "52fdb4bd-4428-4f44-bbbe-75dbdded0d3e",
   "metadata": {},
   "source": [
    "# Green Taxi"
   ]
  },
  {
   "cell_type": "code",
   "execution_count": null,
   "id": "7c774660-429e-48eb-ad8f-36fef9cdd7a6",
   "metadata": {},
   "outputs": [],
   "source": [
    "data_gtaxi_04_16_df = pd.read_csv('Datasets/green_tripdata_2016-04.csv') # data from https://www1.nyc.gov/site/tlc/about/tlc-trip-record-data.page\n",
    "data_gtaxi_05_16_df = pd.read_csv('Datasets/green_tripdata_2016-05.csv')\n",
    "data_gtaxi_06_16_df = pd.read_csv('Datasets/green_tripdata_2016-06.csv')"
   ]
  },
  {
   "cell_type": "code",
   "execution_count": null,
   "id": "57c834c8-5cb0-486c-8b2f-e812bfd734a1",
   "metadata": {
    "tags": []
   },
   "outputs": [],
   "source": [
    "data_gtaxi_df = p_func.gtaxi_preparation((data_gtaxi_04_16_df, data_gtaxi_05_16_df, data_gtaxi_06_16_df), BOX)"
   ]
  },
  {
   "cell_type": "code",
   "execution_count": null,
   "id": "21c584ba-b57a-41c8-8735-462447514ca9",
   "metadata": {
    "tags": []
   },
   "outputs": [],
   "source": [
    "data_gtaxi_df = p_func.extra_time_info(data_gtaxi_df, TIME_PERIOD)\n",
    "data_gtaxi_df = p_func.zone_def(data_gtaxi_df, BOX, GRID_SIZE)"
   ]
  },
  {
   "cell_type": "code",
   "execution_count": null,
   "id": "f1cd1907-005f-4317-bd65-38075ab40643",
   "metadata": {
    "tags": []
   },
   "outputs": [],
   "source": [
    "data_gtaxi_df.to_csv(\"Datasets/gtaxi_prepared.csv\")"
   ]
  }
 ],
 "metadata": {
  "kernelspec": {
   "display_name": "Python 3 (ipykernel)",
   "language": "python",
   "name": "python3"
  },
  "language_info": {
   "codemirror_mode": {
    "name": "ipython",
    "version": 3
   },
   "file_extension": ".py",
   "mimetype": "text/x-python",
   "name": "python",
   "nbconvert_exporter": "python",
   "pygments_lexer": "ipython3",
   "version": "3.10.4"
  }
 },
 "nbformat": 4,
 "nbformat_minor": 5
}
