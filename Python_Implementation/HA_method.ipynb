{
 "cells": [
  {
   "cell_type": "markdown",
   "id": "c31d1223-84bc-4ab9-99ef-c5a1fadad03a",
   "metadata": {},
   "source": [
    "Author: **Mathis Konarski** </br>\n",
    "Date: **17/06/2022**\n",
    "\n",
    "This notebook make predictions based on historical average for NYC bike and NYC taxi data."
   ]
  },
  {
   "cell_type": "code",
   "execution_count": null,
   "id": "ccf561d2",
   "metadata": {
    "tags": []
   },
   "outputs": [],
   "source": [
    "import numpy as np\n",
    "import pandas as pd\n",
    "from tqdm import tqdm\n",
    "import matplotlib.pyplot as plt\n",
    "\n",
    "import Training_functions as t_func"
   ]
  },
  {
   "cell_type": "code",
   "execution_count": null,
   "id": "ddebe77c-def6-49f5-adc2-c10d0d402856",
   "metadata": {
    "tags": []
   },
   "outputs": [],
   "source": [
    "TRAIN_PERIOD = 70*24*2 # TIME_PERIOD\n",
    "MIN_VOL_METRICS = 10"
   ]
  },
  {
   "cell_type": "code",
   "execution_count": null,
   "id": "607b51d5-4e03-43a8-9878-cde5d7d1ed5b",
   "metadata": {
    "tags": []
   },
   "outputs": [],
   "source": [
    "def HA_by_zone_and_period(data_fn_df, train_period):\n",
    "    '''\n",
    "    Count the demand for each zone during one period of time\n",
    "    \n",
    "    Parameters\n",
    "    ----------\n",
    "    data_fn_df : pandas.DataFrame\n",
    "    train_period : int with length of the train period\n",
    "    '''\n",
    "    train_start_df = data_fn_df[data_fn_df.starttime_period <= train_period]\n",
    "    start_count_df = train_start_df.value_counts(['starttime_period', 'start_lat_zone', 'start_lon_zone', 'weekday', 'hour']).reset_index()\n",
    "    start_count_df.rename(columns = {0:'n_trips',\n",
    "                                    'starttime_period':'period',\n",
    "                                    'start_lat_zone':'lat',\n",
    "                                    'start_lon_zone':'lon'}, inplace=True)\n",
    "    start_count_df = start_count_df.groupby(['lat','lon','weekday','hour'])['n_trips'].mean().reset_index()\n",
    "\n",
    "    train_stop_df = data_fn_df[data_fn_df.stoptime_period <= train_period]\n",
    "    stop_count_df = train_stop_df.value_counts(['stoptime_period', 'end_lat_zone', 'end_lon_zone', 'weekday', 'hour']).reset_index()\n",
    "    stop_count_df.rename(columns = {0:'n_trips',\n",
    "                                    'stoptime_period':'period',\n",
    "                                    'end_lat_zone':'lat',\n",
    "                                    'end_lon_zone':'lon'}, inplace=True)\n",
    "    stop_count_df = stop_count_df.groupby(['lat','lon','weekday','hour'])['n_trips'].mean().reset_index()\n",
    "    return start_count_df, stop_count_df"
   ]
  },
  {
   "cell_type": "code",
   "execution_count": null,
   "id": "ed2ccba8-d1b6-46f3-b8eb-53b15455e801",
   "metadata": {
    "tags": []
   },
   "outputs": [],
   "source": [
    "def HA_formatting(count_df, train_period, val_shape, starting_hour, starting_weekday):\n",
    "    '''\n",
    "    Changes the format of the data to make it match the prediction format\n",
    "    \n",
    "    Parameters\n",
    "    ----------\n",
    "    count_df : pandas.DataFrame with the number of trips by period\n",
    "    train_period : int with length of the train period\n",
    "    val_shape : tuple with target format\n",
    "    starting_hour : int corresponding to the first hour of the training period\n",
    "    starting_weekday : int corresponding to the first weekday of the training period\n",
    "    '''\n",
    "    pred_arr = np.empty(val_shape)\n",
    "    hour = starting_hour\n",
    "    weekday = starting_weekday\n",
    "    for i in tqdm(range(len(pred_arr))):\n",
    "        value_df = count_df[(count_df.hour == hour) & (count_df.weekday == weekday)]\n",
    "        for lat in value_df.lat.unique():\n",
    "            value_lat_df = value_df[value_df.lat == lat]\n",
    "            for lon in value_lat_df.lon.unique():\n",
    "                value_lat_lon_df = value_lat_df[value_lat_df.lon == lon]\n",
    "                pred_arr[i, lat-1, lon-1] = value_lat_lon_df.iloc[0].n_trips\n",
    "        if i%2 == 0: # Day and hour evolution\n",
    "            hour += 1\n",
    "            if hour==24:\n",
    "                hour=0\n",
    "        if i%24 == 0:\n",
    "            weekday += 1\n",
    "            if weekday == 7:\n",
    "                weekday = 0\n",
    "    return pred_arr"
   ]
  },
  {
   "cell_type": "code",
   "execution_count": null,
   "id": "47602fd2-60ba-4a53-bcc5-b20b34d61878",
   "metadata": {
    "tags": []
   },
   "outputs": [],
   "source": [
    "def HA_scoring(data_fn_df, train_period, min_vol_metrics):\n",
    "    '''\n",
    "    Compute and test historical average for one dataset\n",
    "    \n",
    "    Parameters\n",
    "    ----------\n",
    "    data_fn_df : pandas.DataFrame with the data to be tested\n",
    "    train_period : int with length of the train period\n",
    "    min_vol_metrics : int with minimal number of trips demand to be considered for scoring\n",
    "    '''\n",
    "    # Validation data\n",
    "    data_vol_arr = t_func.volume_data(data_fn_df)\n",
    "    val_start_arr = data_vol_arr[train_period:,:,:,0]\n",
    "    val_stop_arr = data_vol_arr[train_period:,:,:,1]\n",
    "\n",
    "    # HA formatting\n",
    "    starting_hour = data_fn_df[data_fn_df.starttime_period == train_period+1].iloc[0].hour\n",
    "    starting_weekday = data_fn_df[data_fn_df.starttime_period == train_period+1].iloc[0].weekday\n",
    "\n",
    "    count_start_df, count_stop_df = HA_by_zone_and_period(data_fn_df, train_period)\n",
    "    pred_start_arr = HA_formatting(count_start_df, train_period, val_start_arr.shape, starting_hour, starting_weekday)\n",
    "    pred_stop_arr = HA_formatting(count_stop_df, train_period, val_stop_arr.shape, starting_hour, starting_weekday)\n",
    "    \n",
    "    val_start_minv_arr = val_start_arr[val_start_arr>min_vol_metrics]\n",
    "    pred_start_minv_arr = pred_start_arr[val_start_arr>min_vol_metrics]\n",
    "    val_stop_minv_arr = val_stop_arr[val_stop_arr>min_vol_metrics]\n",
    "    pred_stop_minv_arr = pred_stop_arr[val_stop_arr>min_vol_metrics]\n",
    "    print(\"Start RMSE = %.2f\" %np.sqrt(((pred_start_minv_arr-val_start_minv_arr)**2).mean()),\n",
    "          \"| Start MAPE = %.2f\" %((abs(pred_start_minv_arr-val_start_minv_arr)/val_start_minv_arr).mean()*100), \"%\",\n",
    "          \"| Stop RMSE = %.2f\" %np.sqrt(((pred_stop_minv_arr-val_stop_minv_arr)**2).mean()),\n",
    "          \"| Stop MAPE = %.2f\" %((abs(pred_stop_minv_arr-val_stop_minv_arr)/val_stop_minv_arr).mean()*100), \"%\")"
   ]
  },
  {
   "cell_type": "code",
   "execution_count": null,
   "id": "dd318054-4a8e-46a6-aafb-7b276a8383b6",
   "metadata": {
    "tags": []
   },
   "outputs": [],
   "source": [
    "data_bike_df = pd.read_csv(\"Datasets/bike_prepared.csv\", index_col=0)\n",
    "HA_scoring(data_bike_df, TRAIN_PERIOD, MIN_VOL_METRICS)"
   ]
  },
  {
   "cell_type": "raw",
   "id": "0227bce5-9a67-42fd-b12a-63376e7dc61c",
   "metadata": {},
   "source": [
    "Start RMSE = 17.44 | Start MAPE = 44.70 % | Stop RMSE = 22.08 | Stop MAPE = 59.55 %"
   ]
  },
  {
   "cell_type": "code",
   "execution_count": null,
   "id": "3c5b636a-8880-4339-a116-8a6665b6353a",
   "metadata": {
    "tags": []
   },
   "outputs": [],
   "source": [
    "data_ytaxi_df = pd.read_csv(\"Datasets/ytaxi_prepared.csv\", index_col=0)\n",
    "HA_scoring(data_ytaxi_df, TRAIN_PERIOD, MIN_VOL_METRICS)"
   ]
  },
  {
   "cell_type": "raw",
   "id": "76167523-5356-497e-b0fa-991fc0273034",
   "metadata": {
    "tags": []
   },
   "source": [
    "Start RMSE = 52.65 | Start MAPE = 51.60 % | Stop RMSE = 60.97 | Stop MAPE = 49.88 %"
   ]
  },
  {
   "cell_type": "code",
   "execution_count": null,
   "id": "b22db740-f5fe-445e-9f27-b60370f853f2",
   "metadata": {
    "tags": []
   },
   "outputs": [],
   "source": [
    "data_gtaxi_df = pd.read_csv(\"Datasets/gtaxi_prepared.csv\", index_col=0)\n",
    "HA_scoring(data_gtaxi_df, TRAIN_PERIOD, MIN_VOL_METRICS)"
   ]
  },
  {
   "cell_type": "raw",
   "id": "37e5e598-0d1a-4f34-901e-3436f9feafd9",
   "metadata": {},
   "source": [
    "Start RMSE = 12.11 | Start MAPE = 45.77 % | Stop RMSE = 9.47 | Stop MAPE = 65.18 %"
   ]
  }
 ],
 "metadata": {
  "kernelspec": {
   "display_name": "Python 3 (ipykernel)",
   "language": "python",
   "name": "python3"
  },
  "language_info": {
   "codemirror_mode": {
    "name": "ipython",
    "version": 3
   },
   "file_extension": ".py",
   "mimetype": "text/x-python",
   "name": "python",
   "nbconvert_exporter": "python",
   "pygments_lexer": "ipython3",
   "version": "3.10.4"
  }
 },
 "nbformat": 4,
 "nbformat_minor": 5
}
